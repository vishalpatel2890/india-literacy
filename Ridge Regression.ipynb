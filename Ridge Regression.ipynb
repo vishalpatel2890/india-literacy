{
 "cells": [
  {
   "cell_type": "code",
   "execution_count": 5,
   "metadata": {},
   "outputs": [],
   "source": [
    "from helpers import *\n",
    "from interactions import *\n",
    "\n",
    "import seaborn as sns\n",
    "import plotly.plotly as py\n",
    "import plotly.graph_objs as go\n",
    "from plotly.offline import init_notebook_mode, iplot\n",
    "from sklearn.linear_model import Ridge\n",
    "from sklearn.metrics import mean_squared_error\n"
   ]
  },
  {
   "cell_type": "code",
   "execution_count": 55,
   "metadata": {},
   "outputs": [
    {
     "data": {
      "text/html": [
       "<script>requirejs.config({paths: { 'plotly': ['https://cdn.plot.ly/plotly-latest.min']},});if(!window.Plotly) {{require(['plotly'],function(plotly) {window.Plotly=plotly;});}}</script>"
      ],
      "text/vnd.plotly.v1+html": [
       "<script>requirejs.config({paths: { 'plotly': ['https://cdn.plot.ly/plotly-latest.min']},});if(!window.Plotly) {{require(['plotly'],function(plotly) {window.Plotly=plotly;});}}</script>"
      ]
     },
     "metadata": {},
     "output_type": "display_data"
    }
   ],
   "source": [
    "init_notebook_mode(connected=True)"
   ]
  },
  {
   "cell_type": "code",
   "execution_count": 6,
   "metadata": {},
   "outputs": [],
   "source": [
    "ridgeReg = Ridge(alpha=.075, normalize=True)\n",
    "\n",
    "ridgeReg.fit(features_,y_train)\n",
    "\n",
    "ridge_y_pred = ridgeReg.predict(features_interactions_test)"
   ]
  },
  {
   "cell_type": "code",
   "execution_count": 70,
   "metadata": {
    "scrolled": false
   },
   "outputs": [
    {
     "data": {
      "text/plain": [
       "[Text(0,0.5,'Actual Literacy Rate'),\n",
       " Text(0.5,0,'Values Predicted By Model'),\n",
       " Text(0.5,1,'Residual Errors Plot')]"
      ]
     },
     "execution_count": 70,
     "metadata": {},
     "output_type": "execute_result"
    },
    {
     "data": {
      "image/png": "[encoded data removed]",
      "text/plain": [
       "<Figure size 432x288 with 1 Axes>"
      ]
     },
     "metadata": {},
     "output_type": "display_data"
    }
   ],
   "source": [
    "ridge_residuals = sns.regplot(ridge_y_pred, y_test)\n",
    "ridge_residuals.set(xlabel='Values Predicted By Model', ylabel= 'Actual Literacy Rate', title='Residual Errors Plot')"
   ]
  },
  {
   "cell_type": "code",
   "execution_count": 63,
   "metadata": {},
   "outputs": [],
   "source": [
    "#model score (R^2 and Adjusted R2)\n",
    "\n",
    "rar2 = 1 - (1-ridgeReg.score(features_interactions_test, y_test))*(len(y_test)-1)/(len(y_test)-features_interactions_test.shape[1]-1)"
   ]
  },
  {
   "cell_type": "code",
   "execution_count": 64,
   "metadata": {},
   "outputs": [
    {
     "name": "stdout",
     "output_type": "stream",
     "text": [
      "R2 0.48896269666875436\n",
      "Adjusted R2: 0.47730076375149555\n",
      "MSE: 0.004389889618438487\n",
      "RMSE: 0.06625624210924196\n",
      "Normalized RMSE: 0.6095953479730806\n"
     ]
    }
   ],
   "source": [
    "print('R2', ridgeReg.score(features_interactions_train, y_train))\n",
    "print('Adjusted R2:', rar2)\n",
    "print('MSE:', mean_squared_error(y_test, ridge_y_pred))\n",
    "print('RMSE:', np.sqrt(mean_squared_error(y_test, ridge_y_pred)))\n",
    "print('Normalized RMSE:', np.sqrt(mean_squared_error(y_test, ridge_y_pred))/ y_test.std())"
   ]
  },
  {
   "cell_type": "code",
   "execution_count": null,
   "metadata": {},
   "outputs": [],
   "source": []
  },
  {
   "cell_type": "code",
   "execution_count": 27,
   "metadata": {},
   "outputs": [],
   "source": [
    "ridge_coef = pd.DataFrame(ridgeReg.coef_).T\n",
    "ridge_coef.columns = list(features_interactions_train.columns)\n",
    "ridge_coef = ridge_coef.T.sort_values(by=0).T\n",
    "x = list(ridge_coef.columns)"
   ]
  },
  {
   "cell_type": "code",
   "execution_count": 65,
   "metadata": {},
   "outputs": [
    {
     "data": {
      "application/vnd.plotly.v1+json": {
       "data": [
        {
         "marker": {
          "color": [
           "rgb(228,180,161)",
           "rgb(77,149,205)",
           "rgb(12,64,235)",
           "rgb(173,116,35)",
           "rgb(224,91,184)",
           "rgb(154,162,196)",
           "rgb(33,31,215)",
           "rgb(231,157,112)",
           "rgb(140,114,16)",
           "rgb(182,19,173)",
           "rgb(122,178,139)",
           "rgb(24,89,145)",
           "rgb(190,181,143)",
           "rgb(85,50,228)",
           "rgb(91,144,35)",
           "rgb(96,192,0)",
           "rgb(243,183,22)",
           "rgb(89,136,6)",
           "rgb(97,199,47)",
           "rgb(136,92,142)",
           "rgb(169,121,116)",
           "rgb(176,203,129)",
           "rgb(47,133,111)",
           "rgb(248,148,224)",
           "rgb(148,145,75)",
           "rgb(122,86,178)",
           "rgb(21,219,37)",
           "rgb(115,91,136)",
           "rgb(149,138,87)",
           "rgb(153,24,219)",
           "rgb(45,47,132)",
           "rgb(220,205,173)",
           "rgb(216,232,237)",
           "rgb(62,144,187)",
           "rgb(141,229,187)",
           "rgb(179,62,254)"
          ]
         },
         "type": "bar",
         "uid": "266b6fec-fa41-11e8-87ff-9a001190b410",
         "x": [
          "Male to Female Ratio HINDUS ZERO TO 33%",
          "Percentage of Owned Households HINDUS ZERO TO 33%",
          "HINDUS ZERO TO 33% OWNERSHIP OF HOUSEHOLDS > MEAN",
          "Percentage of Owned Households HINDUS 66% TO 100%",
          "Male to Female Ratio",
          "Percentage of Owned Households",
          "Total_Power_Parity OWNERSHIP OF HOUSEHOLDS > MEAN",
          "Percentage of Urban Households Percentage of Households with Internet",
          "Male to Female Ratio Percentage of Households with Internet",
          "Percentage of Urban Households HINDUS ZERO TO 33%",
          "Percentage of Urban Households HINDUS 66% TO 100%",
          "Total_Power_Parity Percentage of Urban Households",
          "Male to Female Ratio Percentage of Urban Households",
          "Percentage of Owned Households Male to Female Ratio",
          "Total_Power_Parity Percentage of Households with Internet",
          "HINDUS ZERO TO 33% HINDUS 66% TO 100%",
          "Male to Female Ratio HINDUS 66% TO 100%",
          "Percentage of Owned Households Percentage of Households with Internet",
          "Total_Power_Parity Percentage of Owned Households",
          "Percentage of Owned Households OWNERSHIP OF HOUSEHOLDS > MEAN",
          "Total_Power_Parity Male to Female Ratio",
          "Percentage of Owned Households Percentage of Urban Households",
          "Total_Power_Parity HINDUS 66% TO 100%",
          "Total_Power_Parity HINDUS ZERO TO 33%",
          "HINDUS 66% TO 100% OWNERSHIP OF HOUSEHOLDS > MEAN",
          "Total_Power_Parity",
          "Male to Female Ratio OWNERSHIP OF HOUSEHOLDS > MEAN",
          "Percentage of Urban Households OWNERSHIP OF HOUSEHOLDS > MEAN",
          "OWNERSHIP OF HOUSEHOLDS > MEAN",
          "HINDUS 66% TO 100%",
          "Percentage of Households with Internet HINDUS 66% TO 100%",
          "Percentage of Households with Internet HINDUS ZERO TO 33%",
          "Percentage of Households with Internet",
          "Percentage of Urban Households",
          "HINDUS ZERO TO 33%",
          "Percentage of Households with Internet OWNERSHIP OF HOUSEHOLDS > MEAN"
         ],
         "y": [
          -0.03101179523989356,
          -0.02541898000316097,
          -0.025194949669629183,
          -0.02088030522067832,
          -0.019994267834232516,
          -0.013414576144638625,
          -0.00800882909362259,
          -0.006855453301836224,
          -0.004157889650129187,
          -0.0040142156185058574,
          -0.0031770210065853325,
          -0.0021048919258388967,
          -0.0007692579810958488,
          -0.0006824886138292009,
          -0.000416940524868349,
          0,
          0.0006182111394591378,
          0.0012957633913957469,
          0.0028676008044894227,
          0.0028891134583543007,
          0.0030550273096879906,
          0.003808571431932359,
          0.004206465079741205,
          0.004479257709023787,
          0.005661177733088201,
          0.007370376730693266,
          0.008165061611125256,
          0.012576994409242696,
          0.014265237422981511,
          0.016046620230903915,
          0.016293538669512577,
          0.020376271743047653,
          0.02132971883521275,
          0.024597222207901025,
          0.026146530215242447,
          0.04413481769282482
         ]
        }
       ],
       "layout": {
        "title": "Feature Coefficients"
       }
      },
      "text/html": [
       "<div id=\"42171688-a223-45f6-a1e2-39f1ec999e75\" style=\"height: 525px; width: 100%;\" class=\"plotly-graph-div\"></div><script type=\"text/javascript\">require([\"plotly\"], function(Plotly) { window.PLOTLYENV=window.PLOTLYENV || {};window.PLOTLYENV.BASE_URL=\"https://plot.ly\";Plotly.newPlot(\"42171688-a223-45f6-a1e2-39f1ec999e75\", [{\"marker\": {\"color\": [\"rgb(228,180,161)\", \"rgb(77,149,205)\", \"rgb(12,64,235)\", \"rgb(173,116,35)\", \"rgb(224,91,184)\", \"rgb(154,162,196)\", \"rgb(33,31,215)\", \"rgb(231,157,112)\", \"rgb(140,114,16)\", \"rgb(182,19,173)\", \"rgb(122,178,139)\", \"rgb(24,89,145)\", \"rgb(190,181,143)\", \"rgb(85,50,228)\", \"rgb(91,144,35)\", \"rgb(96,192,0)\", \"rgb(243,183,22)\", \"rgb(89,136,6)\", \"rgb(97,199,47)\", \"rgb(136,92,142)\", \"rgb(169,121,116)\", \"rgb(176,203,129)\", \"rgb(47,133,111)\", \"rgb(248,148,224)\", \"rgb(148,145,75)\", \"rgb(122,86,178)\", \"rgb(21,219,37)\", \"rgb(115,91,136)\", \"rgb(149,138,87)\", \"rgb(153,24,219)\", \"rgb(45,47,132)\", \"rgb(220,205,173)\", \"rgb(216,232,237)\", \"rgb(62,144,187)\", \"rgb(141,229,187)\", \"rgb(179,62,254)\"]}, \"x\": [\"Male to Female Ratio HINDUS ZERO TO 33%\", \"Percentage of Owned Households HINDUS ZERO TO 33%\", \"HINDUS ZERO TO 33% OWNERSHIP OF HOUSEHOLDS > MEAN\", \"Percentage of Owned Households HINDUS 66% TO 100%\", \"Male to Female Ratio\", \"Percentage of Owned Households\", \"Total_Power_Parity OWNERSHIP OF HOUSEHOLDS > MEAN\", \"Percentage of Urban Households Percentage of Households with Internet\", \"Male to Female Ratio Percentage of Households with Internet\", \"Percentage of Urban Households HINDUS ZERO TO 33%\", \"Percentage of Urban Households HINDUS 66% TO 100%\", \"Total_Power_Parity Percentage of Urban Households\", \"Male to Female Ratio Percentage of Urban Households\", \"Percentage of Owned Households Male to Female Ratio\", \"Total_Power_Parity Percentage of Households with Internet\", \"HINDUS ZERO TO 33% HINDUS 66% TO 100%\", \"Male to Female Ratio HINDUS 66% TO 100%\", \"Percentage of Owned Households Percentage of Households with Internet\", \"Total_Power_Parity Percentage of Owned Households\", \"Percentage of Owned Households OWNERSHIP OF HOUSEHOLDS > MEAN\", \"Total_Power_Parity Male to Female Ratio\", \"Percentage of Owned Households Percentage of Urban Households\", \"Total_Power_Parity HINDUS 66% TO 100%\", \"Total_Power_Parity HINDUS ZERO TO 33%\", \"HINDUS 66% TO 100% OWNERSHIP OF HOUSEHOLDS > MEAN\", \"Total_Power_Parity\", \"Male to Female Ratio OWNERSHIP OF HOUSEHOLDS > MEAN\", \"Percentage of Urban Households OWNERSHIP OF HOUSEHOLDS > MEAN\", \"OWNERSHIP OF HOUSEHOLDS > MEAN\", \"HINDUS 66% TO 100%\", \"Percentage of Households with Internet HINDUS 66% TO 100%\", \"Percentage of Households with Internet HINDUS ZERO TO 33%\", \"Percentage of Households with Internet\", \"Percentage of Urban Households\", \"HINDUS ZERO TO 33%\", \"Percentage of Households with Internet OWNERSHIP OF HOUSEHOLDS > MEAN\"], \"y\": [-0.03101179523989356, -0.02541898000316097, -0.025194949669629183, -0.02088030522067832, -0.019994267834232516, -0.013414576144638625, -0.00800882909362259, -0.006855453301836224, -0.004157889650129187, -0.0040142156185058574, -0.0031770210065853325, -0.0021048919258388967, -0.0007692579810958488, -0.0006824886138292009, -0.000416940524868349, 0.0, 0.0006182111394591378, 0.0012957633913957469, 0.0028676008044894227, 0.0028891134583543007, 0.0030550273096879906, 0.003808571431932359, 0.004206465079741205, 0.004479257709023787, 0.005661177733088201, 0.007370376730693266, 0.008165061611125256, 0.012576994409242696, 0.014265237422981511, 0.016046620230903915, 0.016293538669512577, 0.020376271743047653, 0.02132971883521275, 0.024597222207901025, 0.026146530215242447, 0.04413481769282482], \"type\": \"bar\", \"uid\": \"266b6fec-fa41-11e8-87ff-9a001190b410\"}], {\"title\": \"Feature Coefficients\"}, {\"showLink\": true, \"linkText\": \"Export to plot.ly\"})});</script>"
      ],
      "text/vnd.plotly.v1+html": [
       "<div id=\"42171688-a223-45f6-a1e2-39f1ec999e75\" style=\"height: 525px; width: 100%;\" class=\"plotly-graph-div\"></div><script type=\"text/javascript\">require([\"plotly\"], function(Plotly) { window.PLOTLYENV=window.PLOTLYENV || {};window.PLOTLYENV.BASE_URL=\"https://plot.ly\";Plotly.newPlot(\"42171688-a223-45f6-a1e2-39f1ec999e75\", [{\"marker\": {\"color\": [\"rgb(228,180,161)\", \"rgb(77,149,205)\", \"rgb(12,64,235)\", \"rgb(173,116,35)\", \"rgb(224,91,184)\", \"rgb(154,162,196)\", \"rgb(33,31,215)\", \"rgb(231,157,112)\", \"rgb(140,114,16)\", \"rgb(182,19,173)\", \"rgb(122,178,139)\", \"rgb(24,89,145)\", \"rgb(190,181,143)\", \"rgb(85,50,228)\", \"rgb(91,144,35)\", \"rgb(96,192,0)\", \"rgb(243,183,22)\", \"rgb(89,136,6)\", \"rgb(97,199,47)\", \"rgb(136,92,142)\", \"rgb(169,121,116)\", \"rgb(176,203,129)\", \"rgb(47,133,111)\", \"rgb(248,148,224)\", \"rgb(148,145,75)\", \"rgb(122,86,178)\", \"rgb(21,219,37)\", \"rgb(115,91,136)\", \"rgb(149,138,87)\", \"rgb(153,24,219)\", \"rgb(45,47,132)\", \"rgb(220,205,173)\", \"rgb(216,232,237)\", \"rgb(62,144,187)\", \"rgb(141,229,187)\", \"rgb(179,62,254)\"]}, \"x\": [\"Male to Female Ratio HINDUS ZERO TO 33%\", \"Percentage of Owned Households HINDUS ZERO TO 33%\", \"HINDUS ZERO TO 33% OWNERSHIP OF HOUSEHOLDS > MEAN\", \"Percentage of Owned Households HINDUS 66% TO 100%\", \"Male to Female Ratio\", \"Percentage of Owned Households\", \"Total_Power_Parity OWNERSHIP OF HOUSEHOLDS > MEAN\", \"Percentage of Urban Households Percentage of Households with Internet\", \"Male to Female Ratio Percentage of Households with Internet\", \"Percentage of Urban Households HINDUS ZERO TO 33%\", \"Percentage of Urban Households HINDUS 66% TO 100%\", \"Total_Power_Parity Percentage of Urban Households\", \"Male to Female Ratio Percentage of Urban Households\", \"Percentage of Owned Households Male to Female Ratio\", \"Total_Power_Parity Percentage of Households with Internet\", \"HINDUS ZERO TO 33% HINDUS 66% TO 100%\", \"Male to Female Ratio HINDUS 66% TO 100%\", \"Percentage of Owned Households Percentage of Households with Internet\", \"Total_Power_Parity Percentage of Owned Households\", \"Percentage of Owned Households OWNERSHIP OF HOUSEHOLDS > MEAN\", \"Total_Power_Parity Male to Female Ratio\", \"Percentage of Owned Households Percentage of Urban Households\", \"Total_Power_Parity HINDUS 66% TO 100%\", \"Total_Power_Parity HINDUS ZERO TO 33%\", \"HINDUS 66% TO 100% OWNERSHIP OF HOUSEHOLDS > MEAN\", \"Total_Power_Parity\", \"Male to Female Ratio OWNERSHIP OF HOUSEHOLDS > MEAN\", \"Percentage of Urban Households OWNERSHIP OF HOUSEHOLDS > MEAN\", \"OWNERSHIP OF HOUSEHOLDS > MEAN\", \"HINDUS 66% TO 100%\", \"Percentage of Households with Internet HINDUS 66% TO 100%\", \"Percentage of Households with Internet HINDUS ZERO TO 33%\", \"Percentage of Households with Internet\", \"Percentage of Urban Households\", \"HINDUS ZERO TO 33%\", \"Percentage of Households with Internet OWNERSHIP OF HOUSEHOLDS > MEAN\"], \"y\": [-0.03101179523989356, -0.02541898000316097, -0.025194949669629183, -0.02088030522067832, -0.019994267834232516, -0.013414576144638625, -0.00800882909362259, -0.006855453301836224, -0.004157889650129187, -0.0040142156185058574, -0.0031770210065853325, -0.0021048919258388967, -0.0007692579810958488, -0.0006824886138292009, -0.000416940524868349, 0.0, 0.0006182111394591378, 0.0012957633913957469, 0.0028676008044894227, 0.0028891134583543007, 0.0030550273096879906, 0.003808571431932359, 0.004206465079741205, 0.004479257709023787, 0.005661177733088201, 0.007370376730693266, 0.008165061611125256, 0.012576994409242696, 0.014265237422981511, 0.016046620230903915, 0.016293538669512577, 0.020376271743047653, 0.02132971883521275, 0.024597222207901025, 0.026146530215242447, 0.04413481769282482], \"type\": \"bar\", \"uid\": \"266b6fec-fa41-11e8-87ff-9a001190b410\"}], {\"title\": \"Feature Coefficients\"}, {\"showLink\": true, \"linkText\": \"Export to plot.ly\"})});</script>"
      ]
     },
     "metadata": {},
     "output_type": "display_data"
    }
   ],
   "source": [
    "ridge_data = [go.Bar(\n",
    "            x=x,\n",
    "            y=ridge_coef.iloc[0],\n",
    "            marker = {'color': [random_color(coef) for coef in ridge_coef.iloc[0]]},\n",
    "            \n",
    "            \n",
    "    )]\n",
    "ridge_layout = go.Layout(\n",
    "    title='Feature Coefficients',\n",
    ")\n",
    "ridge_fig = go.Figure(data=ridge_data, layout=ridge_layout)\n",
    "iplot(ridge_fig)"
   ]
  },
  {
   "cell_type": "code",
   "execution_count": null,
   "metadata": {},
   "outputs": [],
   "source": []
  },
  {
   "cell_type": "code",
   "execution_count": null,
   "metadata": {},
   "outputs": [],
   "source": []
  },
  {
   "cell_type": "code",
   "execution_count": null,
   "metadata": {},
   "outputs": [],
   "source": []
  }
 ],
 "metadata": {
  "kernelspec": {
   "display_name": "Python 3",
   "language": "python",
   "name": "python3"
  },
  "language_info": {
   "codemirror_mode": {
    "name": "ipython",
    "version": 3
   },
   "file_extension": ".py",
   "mimetype": "text/x-python",
   "name": "python",
   "nbconvert_exporter": "python",
   "pygments_lexer": "ipython3",
   "version": "3.6.5"
  }
 },
 "nbformat": 4,
 "nbformat_minor": 2
}
