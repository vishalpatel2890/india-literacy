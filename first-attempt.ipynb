{
 "cells": [
  {
   "cell_type": "code",
   "execution_count": 8,
   "metadata": {},
   "outputs": [],
   "source": [
    "import os\n",
    "import pandas as pd\n",
    "import numpy as np"
   ]
  },
  {
   "cell_type": "code",
   "execution_count": 261,
   "metadata": {},
   "outputs": [],
   "source": [
    "path = './all-census-data/'\n",
    "#read literacy data into dataframe\n",
    "literacy_data = pd.read_csv(path + 'elementary_2015_16.csv', usecols=list(range(1,9)) + list(range(11,17)))"
   ]
  },
  {
   "cell_type": "code",
   "execution_count": 262,
   "metadata": {},
   "outputs": [],
   "source": [
    "#convert x females per 1000 males to a decimal (female to 1 male)\n",
    "# if greater than to avoid running multiple times\n",
    "if (literacy_data['SEX RATIO'].mean() > 1):\n",
    "    literacy_data['SEX RATIO'] = literacy_data['SEX RATIO']/1000"
   ]
  },
  {
   "cell_type": "code",
   "execution_count": 263,
   "metadata": {
    "scrolled": false
   },
   "outputs": [],
   "source": [
    "#drop rows with null values\n",
    "literacy_data.dropna(inplace=True)"
   ]
  },
  {
   "cell_type": "code",
   "execution_count": null,
   "metadata": {},
   "outputs": [],
   "source": []
  },
  {
   "cell_type": "code",
   "execution_count": 272,
   "metadata": {},
   "outputs": [],
   "source": [
    "#group dataframe by 'STATE NAME'\n",
    "groupedby_state = literacy_data.groupby('STATE NAME')"
   ]
  },
  {
   "cell_type": "code",
   "execution_count": 291,
   "metadata": {},
   "outputs": [],
   "source": [
    "#aggregate function to call on grouped DataFrame to return weight literacy rates (weighted by respective population size)\n",
    "def lit_agg(x):\n",
    "    names = {\n",
    "        'WEIGHTED MALE LITERACY' : np.average(x['MALE LITERACY'], weights=(literacy_data.loc[x.index, \"TOTAL POULATION\"]) - (literacy_data.loc[x.index, \"SEX RATIO\"] * literacy_data.loc[x.index, \"TOTAL POULATION\"])),\n",
    "        'WEIGHTED FEMALE LITERACY' : np.average(x['FEMALE LITERACY'], weights=(literacy_data.loc[x.index, \"SEX RATIO\"] * literacy_data.loc[x.index, \"TOTAL POULATION\"])),\n",
    "        'WEIGHTED TOTAL LITERACY' : np.average(x['OVERALL LITERACY'], weights=(literacy_data.loc[x.index, \"TOTAL POULATION\"])),\n",
    "        'WEIGHTED SEX RATIO': np.average(x['SEX RATIO'], weights=(literacy_data.loc[x.index, \"TOTAL POULATION\"])), \n",
    "        'WEIGHTED URBAN POPULATION': np.average(x['PERCENTAGE URBAN POPULATION'], weights=(literacy_data.loc[x.index, \"TOTAL POULATION\"]))\n",
    "        }\n",
    "    return pd.Series(names, index=['WEIGHTED MALE LITERACY', 'WEIGHTED FEMALE LITERACY', 'WEIGHTED TOTAL LITERACY', 'WEIGHTED SEX RATIO', 'WEIGHTED URBAN POPULATION'])\n"
   ]
  },
  {
   "cell_type": "code",
   "execution_count": 305,
   "metadata": {},
   "outputs": [],
   "source": [
    "#.apply aggregate function\n",
    "weighted_census_data = groupedby_state.apply(lit_agg)\n",
    "\n",
    "#bin percentage of urban population in 0-33%, 33-66%, 66-100%\n",
    "bins = [0, 33, 66, 100]\n",
    "weighted_census_data['URBAN POPULATION BIN'] = pd.cut(weighted_census_data['WEIGHTED URBAN POPULATION'], bins)"
   ]
  },
  {
   "cell_type": "code",
   "execution_count": null,
   "metadata": {},
   "outputs": [],
   "source": []
  },
  {
   "cell_type": "code",
   "execution_count": 121,
   "metadata": {},
   "outputs": [],
   "source": [
    "path = './all-census-data/'\n",
    " \n",
    "files = os.listdir(path)"
   ]
  },
  {
   "cell_type": "code",
   "execution_count": 6,
   "metadata": {},
   "outputs": [],
   "source": [
    "gdp_files = [file for file in files if 'gdp' in file]"
   ]
  },
  {
   "cell_type": "code",
   "execution_count": null,
   "metadata": {},
   "outputs": [],
   "source": [
    " "
   ]
  },
  {
   "cell_type": "code",
   "execution_count": null,
   "metadata": {},
   "outputs": [],
   "source": []
  }
 ],
 "metadata": {
  "kernelspec": {
   "display_name": "Python 3",
   "language": "python",
   "name": "python3"
  },
  "language_info": {
   "codemirror_mode": {
    "name": "ipython",
    "version": 3
   },
   "file_extension": ".py",
   "mimetype": "text/x-python",
   "name": "python",
   "nbconvert_exporter": "python",
   "pygments_lexer": "ipython3",
   "version": "3.6.5"
  }
 },
 "nbformat": 4,
 "nbformat_minor": 2
}
