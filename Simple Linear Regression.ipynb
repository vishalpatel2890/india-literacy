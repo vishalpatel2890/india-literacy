{
 "cells": [
  {
   "cell_type": "code",
   "execution_count": 1,
   "metadata": {
    "scrolled": true
   },
   "outputs": [],
   "source": [
    "from data import *\n",
    "import matplotlib.style as style\n",
    "import seaborn as sns\n",
    "from sklearn.linear_model import LinearRegression\n",
    "from sklearn.metrics import mean_squared_error\n",
    "from sklearn.model_selection import cross_val_score, KFold"
   ]
  },
  {
   "cell_type": "code",
   "execution_count": 15,
   "metadata": {},
   "outputs": [
    {
     "data": {
      "text/plain": [
       "Index([                    'Total_Power_Parity',\n",
       "               'Percentage of Owned Households',\n",
       "                         'Male to Female Ratio',\n",
       "               'Percentage of Urban Households',\n",
       "       'Percentage of Households with Internet',\n",
       "                                   (0.33, 0.66],\n",
       "                                    (0.66, 1.0],\n",
       "                                   (0.656, 1.0]],\n",
       "      dtype='object')"
      ]
     },
     "execution_count": 15,
     "metadata": {},
     "output_type": "execute_result"
    }
   ],
   "source": [
    "features.columns"
   ]
  },
  {
   "cell_type": "code",
   "execution_count": 2,
   "metadata": {},
   "outputs": [],
   "source": [
    "#initialize Linear Regression model \n",
    "lr = LinearRegression()"
   ]
  },
  {
   "cell_type": "code",
   "execution_count": 3,
   "metadata": {},
   "outputs": [],
   "source": [
    "#fit data to model\n",
    "model = lr.fit(X_train, y_train)"
   ]
  },
  {
   "cell_type": "code",
   "execution_count": 4,
   "metadata": {},
   "outputs": [],
   "source": [
    "#run test data through Model and test outputs equal to y_pred\n",
    "y_pred = model.predict(X_test)"
   ]
  },
  {
   "cell_type": "code",
   "execution_count": 5,
   "metadata": {},
   "outputs": [],
   "source": [
    "style.use('ggplot')"
   ]
  },
  {
   "cell_type": "code",
   "execution_count": 12,
   "metadata": {},
   "outputs": [
    {
     "data": {
      "text/plain": [
       "<matplotlib.axes._subplots.AxesSubplot at 0x1a1881a198>"
      ]
     },
     "execution_count": 12,
     "metadata": {},
     "output_type": "execute_result"
    },
    {
     "data": {
      "image/png": "[encoded data removed]",
      "text/plain": [
       "<Figure size 432x288 with 1 Axes>"
      ]
     },
     "metadata": {},
     "output_type": "display_data"
    }
   ],
   "source": [
    "sns.regplot(y_pred, y_test)"
   ]
  },
  {
   "cell_type": "code",
   "execution_count": 7,
   "metadata": {},
   "outputs": [],
   "source": [
    "#model score (R^2 and Adjusted R2)\n",
    "r2 = model.score(X_test, y_test)\n",
    "ar2 = 1 - (1-model.score(X_test, y_test))*(len(y_test)-1)/(len(y_test)-X_test.shape[1]-1)"
   ]
  },
  {
   "cell_type": "code",
   "execution_count": 8,
   "metadata": {
    "scrolled": true
   },
   "outputs": [
    {
     "name": "stdout",
     "output_type": "stream",
     "text": [
      "R2: 0.5404890604922513 AdjustR2: 0.509597568760638\n",
      "MSE: 0.005385920249207483\n",
      "RMSE: 0.07338882918542497\n",
      "Normalized RMSE: 0.6752192312818441\n"
     ]
    }
   ],
   "source": [
    "#print R^2, Adjusted R^2, MSE, RMSE, and Normalized RMSE\n",
    "print('R2:', r2, 'AdjustR2:', ar2)\n",
    "print('MSE:', mean_squared_error(y_test, y_pred))\n",
    "print('RMSE:', np.sqrt(mean_squared_error(y_test, y_pred)))\n",
    "print('Normalized RMSE:',np.sqrt(mean_squared_error(y_test, y_pred))/ y_test.std())"
   ]
  },
  {
   "cell_type": "code",
   "execution_count": 9,
   "metadata": {},
   "outputs": [],
   "source": [
    "kfold5 = KFold(n_splits=5, shuffle=True, random_state=42)\n",
    "kfold10 = KFold(n_splits=10, shuffle=True, random_state=42)\n",
    "kfold20 = KFold(n_splits=20, shuffle=True, random_state=42)"
   ]
  },
  {
   "cell_type": "code",
   "execution_count": 10,
   "metadata": {},
   "outputs": [],
   "source": [
    "#Initial cross validation scores for basic linear regression model\n",
    "cv_5_results = np.mean((cross_val_score(model, features, target, cv=kfold5)))\n",
    "cv_10_results = np.mean((cross_val_score(model, features, target, cv=kfold10)))\n",
    "cv_20_results = np.mean((cross_val_score(model, features, target, cv=kfold20)))"
   ]
  },
  {
   "cell_type": "code",
   "execution_count": 11,
   "metadata": {},
   "outputs": [
    {
     "name": "stdout",
     "output_type": "stream",
     "text": [
      "0.4174799344556588 0.4102207573635461 0.38879113519552944\n"
     ]
    }
   ],
   "source": [
    "print(cv_5_results, cv_10_results, cv_20_results)"
   ]
  },
  {
   "cell_type": "code",
   "execution_count": null,
   "metadata": {},
   "outputs": [],
   "source": []
  }
 ],
 "metadata": {
  "kernelspec": {
   "display_name": "Python 3",
   "language": "python",
   "name": "python3"
  },
  "language_info": {
   "codemirror_mode": {
    "name": "ipython",
    "version": 3
   },
   "file_extension": ".py",
   "mimetype": "text/x-python",
   "name": "python",
   "nbconvert_exporter": "python",
   "pygments_lexer": "ipython3",
   "version": "3.6.5"
  }
 },
 "nbformat": 4,
 "nbformat_minor": 2
}
